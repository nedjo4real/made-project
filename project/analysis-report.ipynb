{
 "cells": [
  {
   "cell_type": "code",
   "id": "initial_id",
   "metadata": {
    "collapsed": true,
    "ExecuteTime": {
     "end_time": "2024-12-28T12:53:40.262761Z",
     "start_time": "2024-12-28T12:53:39.892727Z"
    }
   },
   "source": [
    "import sqlite3\n",
    "import pandas as pd"
   ],
   "outputs": [],
   "execution_count": 1
  },
  {
   "metadata": {
    "ExecuteTime": {
     "end_time": "2024-12-28T12:56:29.466951Z",
     "start_time": "2024-12-28T12:56:29.398465Z"
    }
   },
   "cell_type": "code",
   "source": [
    "conn = sqlite3.connect('/Users/nedjo4real/PycharmProjects/hu48caxy-made-project/data/data.sqlite')\n",
    "table_name = \"income_data\"  # Replace with your table name\n",
    "data = pd.read_sql_query(f\"SELECT * FROM {table_name}\", conn)\n"
   ],
   "id": "e7170899c1d7f630",
   "outputs": [],
   "execution_count": 3
  },
  {
   "metadata": {
    "ExecuteTime": {
     "end_time": "2024-12-28T13:22:22.281167Z",
     "start_time": "2024-12-28T13:22:22.261307Z"
    }
   },
   "cell_type": "code",
   "source": [
    "data\n",
    "\n",
    "# Select only Age.Range and Salary columns for salaries >50K\n",
    "result = data.loc[data['Salary'] == '>50K', ['Age.Range', 'Salary']]\n",
    "print(result)\n"
   ],
   "id": "384ef15c5e3bd99b",
   "outputs": [
    {
     "name": "stdout",
     "output_type": "stream",
     "text": [
      "      Age.Range Salary\n",
      "0            40   >50K\n",
      "2            46   >50K\n",
      "3            32   >50K\n",
      "12           33   >50K\n",
      "14           46   >50K\n",
      "...         ...    ...\n",
      "24532        52   >50K\n",
      "24537        51   >50K\n",
      "24540        40   >50K\n",
      "24549        56   >50K\n",
      "24554        40   >50K\n",
      "\n",
      "[5935 rows x 2 columns]\n"
     ]
    }
   ],
   "execution_count": 5
  },
  {
   "metadata": {
    "ExecuteTime": {
     "end_time": "2024-12-28T13:23:03.128432Z",
     "start_time": "2024-12-28T13:23:03.109387Z"
    }
   },
   "cell_type": "code",
   "source": [
    "# Group by Salary and Education, then count occurrences\n",
    "salary_education_counts = data.groupby(['Salary', 'Education']).size().reset_index(name='Count')\n",
    "\n",
    "# Display the result\n",
    "print(salary_education_counts)\n"
   ],
   "id": "41aff980c1b3aa1d",
   "outputs": [
    {
     "name": "stdout",
     "output_type": "stream",
     "text": [
      "   Salary           Education  Count\n",
      "0    <50K  Associate's Degree    514\n",
      "1    <50K   Bachelor's Degree   4099\n",
      "2    <50K    Doctorate Degree     91\n",
      "3    <50K     High School/GED    582\n",
      "4    <50K     Master's Degree    770\n",
      "5    <50K        Some College   1232\n",
      "6    <50K    Trade/Vocational    200\n",
      "7   <=50K                10th    685\n",
      "8   <=50K                11th    853\n",
      "9   <=50K                12th    307\n",
      "10  <=50K             1st-4th    127\n",
      "11  <=50K             5th-6th    242\n",
      "12  <=50K             7th-8th    434\n",
      "13  <=50K                 9th    376\n",
      "14  <=50K          Assoc-acdm    597\n",
      "15  <=50K           Assoc-voc    784\n",
      "16  <=50K           Bachelors   2326\n",
      "17  <=50K           Doctorate     80\n",
      "18  <=50K             HS-grad   6655\n",
      "19  <=50K             Masters    554\n",
      "20  <=50K           Preschool     35\n",
      "21  <=50K         Prof-school    109\n",
      "22  <=50K        Some-college   4464\n",
      "23   >50K                10th     45\n",
      "24   >50K                11th     47\n",
      "25   >50K                12th     22\n",
      "26   >50K             1st-4th      4\n",
      "27   >50K             5th-6th     11\n",
      "28   >50K             7th-8th     28\n",
      "29   >50K                 9th     20\n",
      "30   >50K          Assoc-acdm    202\n",
      "31   >50K           Assoc-voc    266\n",
      "32   >50K           Bachelors   1672\n",
      "33   >50K           Doctorate    232\n",
      "34   >50K             HS-grad   1270\n",
      "35   >50K             Masters    710\n",
      "36   >50K         Prof-school    326\n",
      "37   >50K        Some-college   1080\n",
      "38  >=50K  Associate's Degree    639\n",
      "39  >=50K   Bachelor's Degree  16300\n",
      "40  >=50K    Doctorate Degree    905\n",
      "41  >=50K     High School/GED    552\n",
      "42  >=50K     Master's Degree   4830\n",
      "43  >=50K        Some College   1351\n",
      "44  >=50K    Trade/Vocational    252\n"
     ]
    }
   ],
   "execution_count": 6
  },
  {
   "metadata": {
    "ExecuteTime": {
     "end_time": "2024-12-28T13:24:19.451286Z",
     "start_time": "2024-12-28T13:24:19.426063Z"
    }
   },
   "cell_type": "code",
   "source": [
    "# Create a pivot table to view counts by Education and Salary\n",
    "pivot_table = data.pivot_table(index='Education', columns='Salary', aggfunc='size', fill_value=0)\n",
    "\n",
    "# Display the pivot table\n",
    "print(pivot_table)\n",
    "\n"
   ],
   "id": "8c77419e6f833050",
   "outputs": [
    {
     "name": "stdout",
     "output_type": "stream",
     "text": [
      "Salary              <50K  <=50K  >50K  >=50K\n",
      "Education                                   \n",
      "10th                   0    685    45      0\n",
      "11th                   0    853    47      0\n",
      "12th                   0    307    22      0\n",
      "1st-4th                0    127     4      0\n",
      "5th-6th                0    242    11      0\n",
      "7th-8th                0    434    28      0\n",
      "9th                    0    376    20      0\n",
      "Assoc-acdm             0    597   202      0\n",
      "Assoc-voc              0    784   266      0\n",
      "Associate's Degree   514      0     0    639\n",
      "Bachelor's Degree   4099      0     0  16300\n",
      "Bachelors              0   2326  1672      0\n",
      "Doctorate              0     80   232      0\n",
      "Doctorate Degree      91      0     0    905\n",
      "HS-grad                0   6655  1270      0\n",
      "High School/GED      582      0     0    552\n",
      "Master's Degree      770      0     0   4830\n",
      "Masters                0    554   710      0\n",
      "Preschool              0     35     0      0\n",
      "Prof-school            0    109   326      0\n",
      "Some College        1232      0     0   1351\n",
      "Some-college           0   4464  1080      0\n",
      "Trade/Vocational     200      0     0    252\n"
     ]
    }
   ],
   "execution_count": 8
  },
  {
   "metadata": {
    "ExecuteTime": {
     "end_time": "2024-12-28T13:25:02.194490Z",
     "start_time": "2024-12-28T13:25:02.171593Z"
    }
   },
   "cell_type": "code",
   "source": [
    "# Group by Salary, Education, and Country, then count occurrences\n",
    "salary_education_country_counts = data.groupby(['Salary', 'Education', 'Country']).size().reset_index(name='Count')\n",
    "\n",
    "# Display the result\n",
    "print(salary_education_country_counts)\n"
   ],
   "id": "aa8ae8847e1f1d20",
   "outputs": [
    {
     "name": "stdout",
     "output_type": "stream",
     "text": [
      "    Salary           Education  Country  Count\n",
      "0     <50K  Associate's Degree   CANADA     33\n",
      "1     <50K  Associate's Degree   FRANCE      1\n",
      "2     <50K  Associate's Degree  GERMANY      1\n",
      "3     <50K  Associate's Degree    SPAIN      1\n",
      "4     <50K  Associate's Degree       UK      7\n",
      "..     ...                 ...      ...    ...\n",
      "693  >=50K    Trade/Vocational   CANADA     33\n",
      "694  >=50K    Trade/Vocational  DENMARK      1\n",
      "695  >=50K    Trade/Vocational   SWEDEN      1\n",
      "696  >=50K    Trade/Vocational       UK      2\n",
      "697  >=50K    Trade/Vocational       US    215\n",
      "\n",
      "[698 rows x 4 columns]\n"
     ]
    }
   ],
   "execution_count": 9
  },
  {
   "metadata": {
    "ExecuteTime": {
     "end_time": "2024-12-28T13:25:20.424770Z",
     "start_time": "2024-12-28T13:25:20.400257Z"
    }
   },
   "cell_type": "code",
   "source": [
    "# Create a pivot table for Salary, Education, and Country\n",
    "pivot_table = data.pivot_table(index=['Education', 'Country'], columns='Salary', aggfunc='size', fill_value=0)\n",
    "\n",
    "# Display the pivot table\n",
    "print(pivot_table)\n"
   ],
   "id": "4c10b843b633347",
   "outputs": [
    {
     "name": "stdout",
     "output_type": "stream",
     "text": [
      "Salary                               <50K  <=50K  >50K  >=50K\n",
      "Education        Country                                     \n",
      "10th             Canada                 0      2     0      0\n",
      "                 China                  0      1     0      0\n",
      "                 Columbia               0      2     0      0\n",
      "                 Cuba                   0      1     1      0\n",
      "                 Dominican-Republic     0      3     0      0\n",
      "...                                   ...    ...   ...    ...\n",
      "Trade/Vocational DENMARK                0      0     0      1\n",
      "                 HUNGARY                1      0     0      0\n",
      "                 SWEDEN                 0      0     0      1\n",
      "                 UK                     8      0     0      2\n",
      "                 US                   177      0     0    215\n",
      "\n",
      "[522 rows x 4 columns]\n"
     ]
    }
   ],
   "execution_count": 10
  }
 ],
 "metadata": {
  "kernelspec": {
   "display_name": "Python 3",
   "language": "python",
   "name": "python3"
  },
  "language_info": {
   "codemirror_mode": {
    "name": "ipython",
    "version": 2
   },
   "file_extension": ".py",
   "mimetype": "text/x-python",
   "name": "python",
   "nbconvert_exporter": "python",
   "pygments_lexer": "ipython2",
   "version": "2.7.6"
  }
 },
 "nbformat": 4,
 "nbformat_minor": 5
}
